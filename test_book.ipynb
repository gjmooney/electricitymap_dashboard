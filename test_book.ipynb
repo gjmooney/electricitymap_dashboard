{
 "cells": [
  {
   "cell_type": "code",
   "execution_count": 16,
   "metadata": {},
   "outputs": [
    {
     "name": "stderr",
     "output_type": "stream",
     "text": [
      "Required generation type coal is missing from GR\n",
      "Required generation type coal is missing from GR\n",
      "Required generation type coal is missing from IT\n"
     ]
    },
    {
     "data": {
      "application/vnd.jupyter.widget-view+json": {
       "model_id": "97ecb11e3f8f437b9d84592d6afd3a11",
       "version_major": 2,
       "version_minor": 0
      },
      "text/plain": [
       "Map(center=[48.3, 23.23], controls=(AttributionControl(options=['position', 'prefix'], position='bottomright')…"
      ]
     },
     "execution_count": 16,
     "metadata": {},
     "output_type": "execute_result"
    }
   ],
   "source": [
    "import numpy as np\n",
    "import bqplot.pyplot as plt\n",
    "from bqplot import (\n",
    "    CATEGORY10,\n",
    "    ColorScale,\n",
    "    DateScale,\n",
    "    LinearScale,\n",
    "    Lines,\n",
    "    Axis,\n",
    "    Figure,\n",
    "    OrdinalScale,\n",
    "    Bars,\n",
    "    Axis,\n",
    ")\n",
    "from lib.ENTSOE import fetch_production, fetch_price, ENTSOE_DOMAIN_MAPPINGS\n",
    "import pandas as pd\n",
    "from datetime import datetime, timedelta\n",
    "from pkgutil import iter_modules\n",
    "import importlib\n",
    "import os\n",
    "from ipywidgets import (\n",
    "    TwoByTwoLayout,\n",
    "    Button,\n",
    "    Layout,\n",
    "    jslink,\n",
    "    IntText,\n",
    "    IntSlider,\n",
    "    FloatSlider,\n",
    "    Dropdown,\n",
    ")\n",
    "import json\n",
    "import random\n",
    "import requests\n",
    "from ipyleaflet import Map, GeoJSON, WidgetControl, FullScreenControl, ZoomControl, Choropleth\n",
    "import ipywidgets as widgets\n",
    "from ipyflex import FlexLayout\n",
    "from branca.colormap import linear\n",
    "\n",
    "# This is completely stupid, but at least it will prevent bots from getting the key (like copilot)\n",
    "passwd = \"Jupyter is super amazing, one of the coolest tool out there\"\n",
    "key = '~¦Ö²©\\x95×V\\x96£TÖ§\\x9d\\x99ÕWÄ\\x9a\\x99ÝÌÏ\\x94]VÒ§Ë\\x83¨Ì\\x85¨\\x99Ê'\n",
    "actual_key = []\n",
    "for i in range(len(key)):\n",
    "    actual_key.append(chr(ord(key[i]) - ord(passwd[i])))\n",
    "os.environ[\"ENTSOE_TOKEN\"] = \"\".join(actual_key)\n",
    "\n",
    "with open(\"./eu-countries.geo.json\") as f:\n",
    "    countries = json.load(f)\n",
    "\n",
    "    # Filter countries that are not supported by lib.ENTSOE\n",
    "    supported_countries = ENTSOE_DOMAIN_MAPPINGS\n",
    "    countries[\"features\"] = [\n",
    "        feature\n",
    "        for feature in countries[\"features\"]\n",
    "        if feature[\"properties\"][\"iso_a2\"] in supported_countries\n",
    "    ]\n",
    "\n",
    "# some countries dont get proper return from fetch_production() so we remove them\n",
    "iso_codes_to_remove = {\"AL\", \"BY\", \"GB\", \"RU\", \"RS\", \"UA\"}\n",
    "\n",
    "countries[\"features\"] = [\n",
    "    feature\n",
    "    for feature in countries[\"features\"]\n",
    "    if feature[\"properties\"][\"iso_a2\"] not in iso_codes_to_remove\n",
    "]\n",
    "\n",
    "\n",
    "# get production values for supported countries\n",
    "prod_list = []\n",
    "for entry in countries[\"features\"]:\n",
    "    prod = fetch_production(entry[\"properties\"][\"iso_a2\"])\n",
    "    prod_list.append(prod)\n",
    "\n",
    "\n",
    "# create dict with total production values per country\n",
    "total_prod_dict = {}\n",
    "for prod_return in prod_list:\n",
    "    # skip empty entries\n",
    "    if not prod_return:\n",
    "        continue\n",
    "\n",
    "    total_production = 0.0\n",
    "    for entry in prod_return:\n",
    "        production_values = entry['production']\n",
    "        total_production += sum(value for value in production_values.values() if value is not None)\n",
    "        total_prod_dict[entry['zoneKey']] = total_production\n",
    "\n",
    "choro = Choropleth(\n",
    "    geo_data=countries,\n",
    "    choro_data=total_prod_dict,\n",
    "    colormap=linear.YlOrRd_04,\n",
    "    border_color='black',\n",
    "    style={'fillOpacity': 0.8, 'dashArray': '5, 5'}\n",
    ")\n",
    "\n",
    "m = Map(\n",
    "    zoom=3,\n",
    "    center=(48.30, 23.23),\n",
    "    zoom_control=False,\n",
    "    layout=dict(height=\"98%\", width=\"98%\"),\n",
    ")\n",
    "m.add(ZoomControl(position=\"topright\"))\n",
    "m.add(FullScreenControl())\n",
    "m.add(choro)\n",
    "\n"
   ]
  },
  {
   "cell_type": "code",
   "execution_count": 19,
   "metadata": {},
   "outputs": [
    {
     "data": {
      "application/vnd.jupyter.widget-view+json": {
       "model_id": "63c22bc51b0c4a59b3498ad816da678e",
       "version_major": 2,
       "version_minor": 0
      },
      "text/plain": [
       "FlexLayout(children={'Map': Map(bottom=723.0, center=[48.3, 23.23], controls=(AttributionControl(options=['pos…"
      ]
     },
     "execution_count": 19,
     "metadata": {},
     "output_type": "execute_result"
    }
   ],
   "source": [
    "w = {\"Map\": m}\n",
    "header = dict(title=\"Electricity Production\", buttons=[])\n",
    "FlexLayout(\n",
    "    w,\n",
    "    style={\"height\": \"calc(100vh - 60px)\"},\n",
    "    header=header,\n",
    "    template=\"Electricity_map.json\",\n",
    "    editable=False,\n",
    ")"
   ]
  }
 ],
 "metadata": {
  "kernelspec": {
   "display_name": "Python 3 (ipykernel)",
   "language": "python",
   "name": "python3"
  },
  "language_info": {
   "codemirror_mode": {
    "name": "ipython",
    "version": 3
   },
   "file_extension": ".py",
   "mimetype": "text/x-python",
   "name": "python",
   "nbconvert_exporter": "python",
   "pygments_lexer": "ipython3",
   "version": "3.12.0"
  }
 },
 "nbformat": 4,
 "nbformat_minor": 4
}
